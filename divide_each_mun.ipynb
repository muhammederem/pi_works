{
 "cells": [
  {
   "cell_type": "code",
   "execution_count": 9,
   "source": [
    "import pandas as pd"
   ],
   "outputs": [],
   "metadata": {}
  },
  {
   "cell_type": "code",
   "execution_count": 10,
   "source": [
    "data = pd.read_csv('new_data.csv')"
   ],
   "outputs": [],
   "metadata": {}
  },
  {
   "cell_type": "code",
   "execution_count": 11,
   "source": [
    "df0, df1, df2, df3, df4, df5, df6, df7, df8, df9 = [x for _, x in data.groupby(data['municipality_id'])]"
   ],
   "outputs": [],
   "metadata": {}
  },
  {
   "cell_type": "code",
   "execution_count": 12,
   "source": [
    "df0.to_csv('municipalities/df0.csv',index=False)\r\n",
    "df1.to_csv('municipalities/df1.csv',index=False)\r\n",
    "df2.to_csv('municipalities/df2.csv',index=False)\r\n",
    "df3.to_csv('municipalities/df3.csv',index=False)\r\n",
    "df4.to_csv('municipalities/df4.csv',index=False)\r\n",
    "df5.to_csv('municipalities/df5.csv',index=False)\r\n",
    "df6.to_csv('municipalities/df6.csv',index=False)\r\n",
    "df7.to_csv('municipalities/df7.csv',index=False)\r\n",
    "df8.to_csv('municipalities/df8.csv',index=False)\r\n",
    "df9.to_csv('municipalities/df9.csv',index=False)"
   ],
   "outputs": [],
   "metadata": {}
  },
  {
   "cell_type": "code",
   "execution_count": 13,
   "source": [
    "import os\r\n",
    "\r\n",
    "directory = r'municipalities'\r\n",
    "count = 0\r\n",
    "for file in os.listdir(directory):\r\n",
    "    \r\n",
    "    data = pd.read_csv('municipalities/'+file)\r\n",
    "    data['timestamp']= pd.to_datetime(data['timestamp'])\r\n",
    "    data = data.drop(columns=['total_capacity','municipality_id'])\r\n",
    "    data.to_csv('last/data'+str(count)+'.csv',index=False)\r\n",
    "    count+=1\r\n",
    "    "
   ],
   "outputs": [],
   "metadata": {}
  },
  {
   "cell_type": "code",
   "execution_count": null,
   "source": [],
   "outputs": [],
   "metadata": {}
  }
 ],
 "metadata": {
  "orig_nbformat": 4,
  "language_info": {
   "name": "python",
   "version": "3.7.0",
   "mimetype": "text/x-python",
   "codemirror_mode": {
    "name": "ipython",
    "version": 3
   },
   "pygments_lexer": "ipython3",
   "nbconvert_exporter": "python",
   "file_extension": ".py"
  },
  "kernelspec": {
   "name": "python3",
   "display_name": "Python 3.7.0 64-bit"
  },
  "interpreter": {
   "hash": "28d6092104dd4a3cc7b8e72f79ae591ec3dab5272bcdda3a9d21ecacdac96651"
  }
 },
 "nbformat": 4,
 "nbformat_minor": 2
}