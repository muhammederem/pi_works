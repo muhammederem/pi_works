{
 "cells": [
  {
   "cell_type": "code",
   "execution_count": null,
   "source": [
    "import pandas as pd"
   ],
   "outputs": [],
   "metadata": {}
  },
  {
   "cell_type": "code",
   "execution_count": null,
   "source": [
    "data = pd.read_csv('new_data.csv')"
   ],
   "outputs": [],
   "metadata": {}
  },
  {
   "cell_type": "code",
   "execution_count": null,
   "source": [
    "df0, df1, df2, df3, df4, df5, df6, df7, df8, df9 = [x for _, x in data.groupby(data['municipality_id'])]"
   ],
   "outputs": [],
   "metadata": {}
  },
  {
   "cell_type": "code",
   "execution_count": null,
   "source": [
    "df0.to_csv('municipalities/df0.csv',index=False)\r\n",
    "df1.to_csv('municipalities/df1.csv',index=False)\r\n",
    "df2.to_csv('municipalities/df2.csv',index=False)\r\n",
    "df3.to_csv('municipalities/df3.csv',index=False)\r\n",
    "df4.to_csv('municipalities/df4.csv',index=False)\r\n",
    "df5.to_csv('municipalities/df5.csv',index=False)\r\n",
    "df6.to_csv('municipalities/df6.csv',index=False)\r\n",
    "df7.to_csv('municipalities/df7.csv',index=False)\r\n",
    "df8.to_csv('municipalities/df8.csv',index=False)\r\n",
    "df9.to_csv('municipalities/df9.csv',index=False)"
   ],
   "outputs": [],
   "metadata": {}
  }
 ],
 "metadata": {
  "orig_nbformat": 4,
  "language_info": {
   "name": "python"
  }
 },
 "nbformat": 4,
 "nbformat_minor": 2
}